{
  "nbformat": 4,
  "nbformat_minor": 0,
  "metadata": {
    "colab": {
      "provenance": []
    },
    "kernelspec": {
      "name": "python3",
      "display_name": "Python 3"
    },
    "language_info": {
      "name": "python"
    }
  },
  "cells": [
    {
      "cell_type": "code",
      "execution_count": 2,
      "metadata": {
        "id": "Xysi5OFUGU76"
      },
      "outputs": [],
      "source": [
        "import tensorflow as tf\n",
        "from tensorflow.keras import datasets, layers, models\n",
        "from tensorflow.keras.preprocessing.image import ImageDataGenerator\n",
        "import matplotlib.pyplot as plt"
      ]
    },
    {
      "cell_type": "code",
      "source": [
        "(train_images, train_labels), (test_images, test_labels) = datasets.cifar10.load_data()\n",
        "train_images, test_images = train_images / 255.0, test_images / 255.0"
      ],
      "metadata": {
        "colab": {
          "base_uri": "https://localhost:8080/"
        },
        "id": "t2Szn3x4gJ52",
        "outputId": "96d3073b-7e22-431b-8f18-da9cf74dec8c"
      },
      "execution_count": 3,
      "outputs": [
        {
          "output_type": "stream",
          "name": "stdout",
          "text": [
            "Downloading data from https://www.cs.toronto.edu/~kriz/cifar-10-python.tar.gz\n",
            "170498071/170498071 [==============================] - 5s 0us/step\n"
          ]
        }
      ]
    },
    {
      "cell_type": "markdown",
      "source": [
        "# Data Augmentation"
      ],
      "metadata": {
        "id": "js8FXIZngMkb"
      }
    },
    {
      "cell_type": "code",
      "source": [
        "datagen = ImageDataGenerator(\n",
        "    rotation_range=40,\n",
        "    width_shift_range=0.2,\n",
        "    height_shift_range=0.2,\n",
        "    shear_range=0.2,\n",
        "    zoom_range=0.2,\n",
        "    horizontal_flip=True,\n",
        "    fill_mode='nearest'\n",
        ")"
      ],
      "metadata": {
        "id": "Z2_lgg5LgOKx"
      },
      "execution_count": 4,
      "outputs": []
    },
    {
      "cell_type": "markdown",
      "source": [
        "# Batch Normalization"
      ],
      "metadata": {
        "id": "LABIFKX8gRgj"
      }
    },
    {
      "cell_type": "code",
      "source": [
        "model = models.Sequential()\n",
        "model.add(layers.Conv2D(32, (3, 3), activation='relu', input_shape=(32, 32, 3)))\n",
        "model.add(layers.BatchNormalization())\n",
        "model.add(layers.MaxPooling2D((2, 2)))\n",
        "\n",
        "model.add(layers.Conv2D(64, (3, 3), activation='relu'))\n",
        "model.add(layers.BatchNormalization())\n",
        "model.add(layers.MaxPooling2D((2, 2)))\n",
        "\n",
        "model.add(layers.Conv2D(64, (3, 3), activation='relu'))\n",
        "model.add(layers.BatchNormalization())\n",
        "\n",
        "model.add(layers.Flatten())"
      ],
      "metadata": {
        "id": "N7OZz8YigQ8-"
      },
      "execution_count": 5,
      "outputs": []
    },
    {
      "cell_type": "markdown",
      "source": [
        "# Dropouts"
      ],
      "metadata": {
        "id": "sTgPbm78gXNE"
      }
    },
    {
      "cell_type": "code",
      "source": [
        "model.add(layers.Dropout(0.5))  # Adjust dropout rate as needed\n",
        "model.add(layers.Dense(64, activation='relu'))\n",
        "model.add(layers.Dropout(0.5))  # Adjust dropout rate as needed\n",
        "model.add(layers.Dense(10))"
      ],
      "metadata": {
        "id": "0Kk2_OBugWnN"
      },
      "execution_count": 6,
      "outputs": []
    },
    {
      "cell_type": "code",
      "source": [
        "model.summary()"
      ],
      "metadata": {
        "colab": {
          "base_uri": "https://localhost:8080/"
        },
        "id": "_hgPoe8MgC1o",
        "outputId": "03208259-c063-45b2-e0d1-237db69e7ff7"
      },
      "execution_count": 7,
      "outputs": [
        {
          "output_type": "stream",
          "name": "stdout",
          "text": [
            "Model: \"sequential\"\n",
            "_________________________________________________________________\n",
            " Layer (type)                Output Shape              Param #   \n",
            "=================================================================\n",
            " conv2d (Conv2D)             (None, 30, 30, 32)        896       \n",
            "                                                                 \n",
            " batch_normalization (Batch  (None, 30, 30, 32)        128       \n",
            " Normalization)                                                  \n",
            "                                                                 \n",
            " max_pooling2d (MaxPooling2  (None, 15, 15, 32)        0         \n",
            " D)                                                              \n",
            "                                                                 \n",
            " conv2d_1 (Conv2D)           (None, 13, 13, 64)        18496     \n",
            "                                                                 \n",
            " batch_normalization_1 (Bat  (None, 13, 13, 64)        256       \n",
            " chNormalization)                                                \n",
            "                                                                 \n",
            " max_pooling2d_1 (MaxPoolin  (None, 6, 6, 64)          0         \n",
            " g2D)                                                            \n",
            "                                                                 \n",
            " conv2d_2 (Conv2D)           (None, 4, 4, 64)          36928     \n",
            "                                                                 \n",
            " batch_normalization_2 (Bat  (None, 4, 4, 64)          256       \n",
            " chNormalization)                                                \n",
            "                                                                 \n",
            " flatten (Flatten)           (None, 1024)              0         \n",
            "                                                                 \n",
            " dropout (Dropout)           (None, 1024)              0         \n",
            "                                                                 \n",
            " dense (Dense)               (None, 64)                65600     \n",
            "                                                                 \n",
            " dropout_1 (Dropout)         (None, 64)                0         \n",
            "                                                                 \n",
            " dense_1 (Dense)             (None, 10)                650       \n",
            "                                                                 \n",
            "=================================================================\n",
            "Total params: 123210 (481.29 KB)\n",
            "Trainable params: 122890 (480.04 KB)\n",
            "Non-trainable params: 320 (1.25 KB)\n",
            "_________________________________________________________________\n"
          ]
        }
      ]
    },
    {
      "cell_type": "markdown",
      "source": [
        "# Compile and Fit The Model"
      ],
      "metadata": {
        "id": "aIZCByW3gcDg"
      }
    },
    {
      "cell_type": "code",
      "source": [
        "model.compile(optimizer='adam',\n",
        "              loss=tf.keras.losses.SparseCategoricalCrossentropy(from_logits=True),\n",
        "              metrics=['accuracy'])\n",
        "\n",
        "history = model.fit(datagen.flow(train_images, train_labels, batch_size=32),\n",
        "                    steps_per_epoch=len(train_images) / 32,  # Adjust as needed\n",
        "                    epochs=10,\n",
        "                    validation_data=(test_images, test_labels))"
      ],
      "metadata": {
        "colab": {
          "base_uri": "https://localhost:8080/"
        },
        "id": "byw4Yot2gC4N",
        "outputId": "131b0afd-83b6-42c3-c2ad-475ef7ab2a49"
      },
      "execution_count": 8,
      "outputs": [
        {
          "output_type": "stream",
          "name": "stdout",
          "text": [
            "Epoch 1/10\n",
            "1562/1562 [==============================] - 110s 69ms/step - loss: 2.1212 - accuracy: 0.0947 - val_loss: 1.6405 - val_accuracy: 0.0664\n",
            "Epoch 2/10\n",
            "1562/1562 [==============================] - 107s 68ms/step - loss: 1.7791 - accuracy: 0.0973 - val_loss: 1.5396 - val_accuracy: 0.0870\n",
            "Epoch 3/10\n",
            "1562/1562 [==============================] - 107s 68ms/step - loss: 1.6620 - accuracy: 0.0943 - val_loss: 1.4342 - val_accuracy: 0.0568\n",
            "Epoch 4/10\n",
            "1562/1562 [==============================] - 108s 69ms/step - loss: 1.5936 - accuracy: 0.0951 - val_loss: 1.4392 - val_accuracy: 0.0656\n",
            "Epoch 5/10\n",
            "1562/1562 [==============================] - 107s 69ms/step - loss: 1.5398 - accuracy: 0.0989 - val_loss: 1.2472 - val_accuracy: 0.0994\n",
            "Epoch 6/10\n",
            "1562/1562 [==============================] - 105s 67ms/step - loss: 1.4994 - accuracy: 0.1003 - val_loss: 1.2884 - val_accuracy: 0.0739\n",
            "Epoch 7/10\n",
            "1562/1562 [==============================] - 107s 68ms/step - loss: 1.4682 - accuracy: 0.1000 - val_loss: 1.2084 - val_accuracy: 0.0941\n",
            "Epoch 8/10\n",
            "1562/1562 [==============================] - 108s 69ms/step - loss: 1.4368 - accuracy: 0.0985 - val_loss: 1.1278 - val_accuracy: 0.0781\n",
            "Epoch 9/10\n",
            "1562/1562 [==============================] - 106s 68ms/step - loss: 1.4214 - accuracy: 0.0984 - val_loss: 1.1642 - val_accuracy: 0.1160\n",
            "Epoch 10/10\n",
            "1562/1562 [==============================] - 106s 68ms/step - loss: 1.4010 - accuracy: 0.1004 - val_loss: 1.3202 - val_accuracy: 0.0972\n"
          ]
        }
      ]
    },
    {
      "cell_type": "markdown",
      "source": [
        "# Evaluate the model on the test set"
      ],
      "metadata": {
        "id": "Pw0t1b6hgjJJ"
      }
    },
    {
      "cell_type": "code",
      "source": [
        "test_loss, test_acc = model.evaluate(test_images, test_labels, verbose=2)\n",
        "print(\"Test accuracy:\", test_acc)"
      ],
      "metadata": {
        "colab": {
          "base_uri": "https://localhost:8080/"
        },
        "id": "qnhjkdSlggLA",
        "outputId": "1aa5d9ed-aba7-4b72-dc8f-9785401d0263"
      },
      "execution_count": 9,
      "outputs": [
        {
          "output_type": "stream",
          "name": "stdout",
          "text": [
            "313/313 - 4s - loss: 1.3202 - accuracy: 0.0972 - 4s/epoch - 11ms/step\n",
            "Test accuracy: 0.09719999879598618\n"
          ]
        }
      ]
    }
  ]
}